{
 "cells": [
  {
   "cell_type": "code",
   "execution_count": null,
   "metadata": {
    "ExecuteTime": {
     "end_time": "2023-07-28T09:30:41.844503600Z",
     "start_time": "2023-07-28T09:30:41.824503300Z"
    },
    "id": "3peQOuiS4cPY"
   },
   "outputs": [],
   "source": [
    "import os\n",
    "import sys"
   ]
  },
  {
   "cell_type": "markdown",
   "metadata": {
    "id": "NsRkOxNS1ecU"
   },
   "source": [
    "#### Simple Demo Workflow for Training an OCR Network for Tibetan using Tensorflow"
   ]
  },
  {
   "cell_type": "code",
   "execution_count": 6,
   "metadata": {
    "colab": {
     "base_uri": "https://localhost:8080/"
    },
    "id": "EvOWUHFP7DR6",
    "outputId": "251b5945-58a8-4d99-febd-b8d87b5e2ca8"
   },
   "outputs": [
    {
     "name": "stdout",
     "output_type": "stream",
     "text": [
      "Collecting pyewts\n",
      "  Downloading pyewts-0.2.0.tar.gz (18 kB)\n",
      "  Preparing metadata (setup.py) ... \u001b[?25l\u001b[?25hdone\n",
      "Building wheels for collected packages: pyewts\n",
      "  Building wheel for pyewts (setup.py) ... \u001b[?25l\u001b[?25hdone\n",
      "  Created wheel for pyewts: filename=pyewts-0.2.0-py3-none-any.whl size=16832 sha256=bd2eca51f24a4c2d3fe875c5c94bdc05faeff258a326e41eb965f25a4b02122b\n",
      "  Stored in directory: /root/.cache/pip/wheels/88/60/74/963829fa17f8c05336ee8e674ef0c1e32ebe8aa6f7c20dd960\n",
      "Successfully built pyewts\n",
      "Installing collected packages: pyewts\n",
      "Successfully installed pyewts-0.2.0\n"
     ]
    }
   ],
   "source": [
    "\"\"\"\n",
    "If run from GoogleColab, execute the following in order to clone the Github repo and retrieve the dataset:\n",
    "\n",
    "\n",
    "user = \"OpenPecha\"\n",
    "repo = \"TibetanOCR_Tensorflow\"\n",
    "\n",
    "if os.path.isdir(repo):\n",
    "    !rm -rf {repo}\n",
    "\n",
    "!git clone https://github.com/{user}/{repo}.git\n",
    "\n",
    "if not repo in sys.path:\n",
    "    sys.path.insert(1, repo)\n",
    "\n",
    "!pip install pyewts\n",
    "\n",
    "\n",
    "!gdown 1H9UO2Blu4APZE2cqesLQcuNMkFwGcnjK\n",
    "!unzip -qq /content/KhyentseWangpo.zip -d /home/KhyentseWangpo\n",
    "\"\"\"\n"
   ]
  },
  {
   "cell_type": "code",
   "execution_count": 2,
   "metadata": {
    "ExecuteTime": {
     "end_time": "2023-07-28T09:31:36.402641400Z",
     "start_time": "2023-07-28T09:30:45.030035700Z"
    },
    "id": "uJyRog434wFz"
   },
   "outputs": [],
   "source": [
    "import json\n",
    "import random\n",
    "import pyewts\n",
    "import tensorflow as tf\n",
    "from IPython.display import display\n",
    "from keras.callbacks import ModelCheckpoint, ReduceLROnPlateau, EarlyStopping, LearningRateScheduler\n",
    "from PIL import Image\n",
    "from src.Modules import OCRDataset, OCRDataLoader, OCRTrainer\n",
    "from src.Models import Easter2\n",
    "from src.Utils import get_charset, decode_image, decode_label\n",
    "from config import DEFAULT_CHARSET\n",
    "\n",
    "from IPython.display import Image as ShowImage"
   ]
  },
  {
   "cell_type": "code",
   "execution_count": 3,
   "metadata": {
    "ExecuteTime": {
     "end_time": "2023-07-28T08:27:00.031651200Z",
     "start_time": "2023-07-28T08:26:59.964656200Z"
    },
    "colab": {
     "base_uri": "https://localhost:8080/"
    },
    "id": "OCkF5MPf1ecb",
    "outputId": "d7cbb848-8c3f-4901-b1ad-0f1956b53b5a"
   },
   "outputs": [
    {
     "name": "stdout",
     "output_type": "stream",
     "text": [
      "2.10.1\n",
      "[PhysicalDevice(name='/physical_device:GPU:0', device_type='GPU')]\n"
     ]
    }
   ],
   "source": [
    "print(tf.__version__)\n",
    "print(tf.config.list_physical_devices('GPU'))"
   ]
  },
  {
   "cell_type": "markdown",
   "metadata": {
    "collapsed": false,
    "id": "2atRWLFg1ecd"
   },
   "source": [
    "Specify the data directory. The assumed structure is:\n",
    "- dataset_path/lines (for the line images as .jpg)\n",
    "- dataset_path/transcriptions (for the label files as .txt)"
   ]
  },
  {
   "cell_type": "code",
   "execution_count": 3,
   "metadata": {
    "ExecuteTime": {
     "end_time": "2023-07-28T09:31:36.417625300Z",
     "start_time": "2023-07-28T09:31:36.405629100Z"
    },
    "id": "WC4AoBNj1ecd"
   },
   "outputs": [],
   "source": [
    "data_root = \"D:\\Datasets\\Tibetan\\LhasaKanjur\" # or \"/home\" if you use Colab\n",
    "dataset = \"LhasaKanjurProdigy_v1_reviewed\"\n",
    "dataset_path = os.path.join(data_root, dataset)\n",
    "\n",
    "# converting unicode labels to wylie\n",
    "converter = pyewts.pyewts()"
   ]
  },
  {
   "cell_type": "code",
   "execution_count": 4,
   "metadata": {
    "ExecuteTime": {
     "end_time": "2023-07-28T09:50:01.519184800Z",
     "start_time": "2023-07-28T09:31:36.421625400Z"
    },
    "id": "b-FewSF01ece",
    "outputId": "54dc096a-b59f-452e-bdd2-0042b2bba7d0"
   },
   "outputs": [
    {
     "name": "stderr",
     "output_type": "stream",
     "text": [
      "INFO:root:Total Images: 160774, Total Labels: 160774\n",
      "reading labels: 100%|██████████| 160773/160773 [17:50<00:00, 150.24it/s] \n",
      "INFO:root:Train Images: 128576\n",
      "INFO:root:Validation Images: 16064\n",
      "INFO:root:Test Images: 16064\n"
     ]
    }
   ],
   "source": [
    "\"\"\"\n",
    "Use a pre-defined charset or let OCRDataset built one based on the provided labels by leaving charset blank when initializing the OCRDataset.\n",
    "Note: When running in Google Colab it is advisable to point the output directory of the OCRDataset tht is used for the training checkpoints to a directory in GoogleDrive in case of a disconnection from the runtime.\n",
    "\"\"\"\n",
    "charset = get_charset(DEFAULT_CHARSET)\n",
    "# change batch size if necessary, e.g. to 32 in case of OOM errors\n",
    "batch_size = 32\n",
    "\n",
    "dataset = OCRDataset(dataset_path, batch_size=batch_size, charset=charset)\n",
    "train_images, train_labels = dataset.get_train_data()\n",
    "val_images, val_labels = dataset.get_val_data()\n",
    "\n",
    "train_loader = OCRDataLoader(train_images, train_labels, batch_size=batch_size, charset=dataset.get_charset(), keep_channel_dim=False)\n",
    "val_loader = OCRDataLoader(train_images, train_labels, batch_size=batch_size, charset=dataset.get_charset(), keep_channel_dim=False)"
   ]
  },
  {
   "cell_type": "code",
   "execution_count": 7,
   "metadata": {
    "ExecuteTime": {
     "end_time": "2023-07-28T09:13:42.946559700Z",
     "start_time": "2023-07-28T09:13:42.864547900Z"
    },
    "id": "tY-dH8Lr1ecf",
    "outputId": "80777392-df63-43c3-8ddf-ea886c709f5c"
   },
   "outputs": [
    {
     "name": "stdout",
     "output_type": "stream",
     "text": [
      "['[UNK]', ' ', '!', '#', '%', \"'\", '(', ')', '+', '-', '.', '/', '0', '1', '2', '3', '4', '5', '6', '7', '8', '9', ':', '=', '?', '@', 'A', 'D', 'H', 'I', 'M', 'N', 'R', 'S', 'T', 'U', 'W', 'X', 'Y', '[', '\\\\', ']', '_', 'a', 'b', 'c', 'd', 'e', 'f', 'g', 'h', 'i', 'j', 'k', 'l', 'm', 'n', 'o', 'p', 'r', 's', 't', 'u', 'w', 'y', 'z', '|', '~', '&', 'ä', 'ü', 'ö', '[BLK]']\n"
     ]
    }
   ],
   "source": [
    "# inspect charset\n",
    "print(dataset.get_charset())"
   ]
  },
  {
   "cell_type": "code",
   "execution_count": 5,
   "metadata": {
    "ExecuteTime": {
     "end_time": "2023-07-28T09:51:07.031409100Z",
     "start_time": "2023-07-28T09:51:06.995412900Z"
    },
    "collapsed": false
   },
   "outputs": [],
   "source": [
    "with open(f\"Data/val_labels.txt\", \"w\", encoding=\"utf-8\") as f:\n",
    "    for lbl in val_labels:\n",
    "        f.write(f\"{lbl}\\n\")"
   ]
  },
  {
   "cell_type": "code",
   "execution_count": 6,
   "metadata": {
    "ExecuteTime": {
     "end_time": "2023-07-28T09:51:14.582912700Z",
     "start_time": "2023-07-28T09:51:14.557896600Z"
    },
    "collapsed": false
   },
   "outputs": [],
   "source": [
    "for idx in range(len(val_labels)):\n",
    "    if \"\\\\u\" in val_labels[idx]:\n",
    "        print(val_labels[idx])\n",
    "        print(val_images[idx])"
   ]
  },
  {
   "cell_type": "code",
   "execution_count": 7,
   "metadata": {
    "ExecuteTime": {
     "end_time": "2023-07-28T09:51:16.917320800Z",
     "start_time": "2023-07-28T09:51:16.861322800Z"
    },
    "collapsed": false
   },
   "outputs": [],
   "source": [
    "for idx in range(len(train_labels)):\n",
    "    if \"\\\\u\" in train_labels[idx]:\n",
    "        print(train_labels[idx])\n",
    "        print(train_images[idx])"
   ]
  },
  {
   "cell_type": "code",
   "execution_count": 8,
   "metadata": {
    "ExecuteTime": {
     "end_time": "2023-07-28T09:51:19.448851900Z",
     "start_time": "2023-07-28T09:51:19.318854300Z"
    },
    "collapsed": false
   },
   "outputs": [
    {
     "data": {
      "image/jpeg": "[encoded data removed]",
      "text/plain": [
       "<IPython.core.display.Image object>"
      ]
     },
     "execution_count": 8,
     "metadata": {},
     "output_type": "execute_result"
    }
   ],
   "source": [
    "ShowImage(\"D:\\Datasets\\Tibetan\\LhasaKanjur\\LhasaKanjurProdigy_v1_reviewed/lines/79-1-147a_line_9874_6.jpg\")"
   ]
  },
  {
   "cell_type": "markdown",
   "metadata": {
    "id": "IIQ6uBXk1ecf"
   },
   "source": [
    "#### Get one sample from the DataLoader"
   ]
  },
  {
   "cell_type": "code",
   "execution_count": 10,
   "metadata": {
    "ExecuteTime": {
     "end_time": "2023-07-28T09:51:37.823015400Z",
     "start_time": "2023-07-28T09:51:37.798214100Z"
    },
    "id": "ARWi66S81ecg"
   },
   "outputs": [],
   "source": [
    "def show_image(img):\n",
    "    display(Image.fromarray(img))"
   ]
  },
  {
   "cell_type": "code",
   "execution_count": 9,
   "metadata": {
    "ExecuteTime": {
     "end_time": "2023-07-28T09:51:29.005071200Z",
     "start_time": "2023-07-28T09:51:24.072217200Z"
    },
    "id": "IilqvIU41ecg",
    "outputId": "c56dc089-4a60-424d-fbbf-a366663ce2ec"
   },
   "outputs": [
    {
     "name": "stdout",
     "output_type": "stream",
     "text": [
      "(32, 2000, 80)\n",
      "Label: སྨིན་ཏོ། །ལས་རྣམས་སྟོར་བར་མི་འགྱུར་པ། །བསྐལ་པ་དག་ནི་བརྒྱ་ལོན་ཀྱང་། །དུས་དང་འཕྲོད་ན་འཐོབ་པ་ནི། ལུས་ཅན་རྣམས་ལ་འབྲས་བུར་སྨིན།\n"
     ]
    },
    {
     "ename": "NameError",
     "evalue": "name 'show_image' is not defined",
     "output_type": "error",
     "traceback": [
      "\u001b[1;31m---------------------------------------------------------------------------\u001b[0m",
      "\u001b[1;31mNameError\u001b[0m                                 Traceback (most recent call last)",
      "Cell \u001b[1;32mIn[9], line 13\u001b[0m\n\u001b[0;32m     11\u001b[0m \u001b[38;5;66;03m#print(f\"Numeric Label: {batched_labels[batch_idx]}\")\u001b[39;00m\n\u001b[0;32m     12\u001b[0m \u001b[38;5;28mprint\u001b[39m(\u001b[38;5;124mf\u001b[39m\u001b[38;5;124m\"\u001b[39m\u001b[38;5;124mLabel: \u001b[39m\u001b[38;5;132;01m{\u001b[39;00mlabel\u001b[38;5;132;01m}\u001b[39;00m\u001b[38;5;124m\"\u001b[39m)\n\u001b[1;32m---> 13\u001b[0m \u001b[43mshow_image\u001b[49m(image)\n",
      "\u001b[1;31mNameError\u001b[0m: name 'show_image' is not defined"
     ]
    }
   ],
   "source": [
    "sample = next(iter(train_loader)) # returns a tuple (inputs, outputs), see OCRDataloader\n",
    "\n",
    "batched_images = sample[0][\"images\"]\n",
    "print(batched_images.shape)\n",
    "\n",
    "batched_labels = sample[0][\"labels\"]\n",
    "batch_idx = random.randint(0, batch_size-1)\n",
    "image = decode_image(batched_images[batch_idx])\n",
    "label = decode_label(batched_labels[batch_idx], charset, converter)\n",
    "\n",
    "#print(f\"Numeric Label: {batched_labels[batch_idx]}\")\n",
    "print(f\"Label: {label}\")\n",
    "show_image(image)"
   ]
  },
  {
   "cell_type": "markdown",
   "metadata": {
    "id": "WsJu1Bir1ech"
   },
   "source": [
    "##### Define & train a Easter2 model"
   ]
  },
  {
   "cell_type": "code",
   "execution_count": 11,
   "metadata": {
    "ExecuteTime": {
     "end_time": "2023-07-28T09:51:44.393415400Z",
     "start_time": "2023-07-28T09:51:42.466595300Z"
    },
    "id": "8SiO7UKe1ech"
   },
   "outputs": [],
   "source": [
    "tf.keras.backend.clear_session()\n",
    "\n",
    "model_save_path = f\"{dataset.output_dir}/{dataset}_easter.hdf5\"\n",
    "model = Easter2(classes=len(charset))"
   ]
  },
  {
   "cell_type": "code",
   "execution_count": 12,
   "metadata": {
    "ExecuteTime": {
     "end_time": "2023-07-28T09:51:45.168863700Z",
     "start_time": "2023-07-28T09:51:45.143867500Z"
    },
    "id": "nKcQtzhj1ech"
   },
   "outputs": [],
   "source": [
    "def lr_scheduler(epoch, lr):\n",
    "  if epoch < 30:\n",
    "    return lr\n",
    "  else:\n",
    "    return lr * tf.math.exp(-0.1)"
   ]
  },
  {
   "cell_type": "code",
   "execution_count": 13,
   "metadata": {
    "ExecuteTime": {
     "end_time": "2023-07-28T09:57:03.129247200Z",
     "start_time": "2023-07-28T09:51:56.973597100Z"
    },
    "id": "iH42KiIy1eci",
    "outputId": "9204e934-3882-4150-bf0f-e2c14bc079e9"
   },
   "outputs": [
    {
     "name": "stdout",
     "output_type": "stream",
     "text": [
      "Epoch 1/20\n",
      "  55/4018 [..............................] - ETA: 5:26:04 - loss: 172.4365"
     ]
    },
    {
     "ename": "KeyboardInterrupt",
     "evalue": "",
     "output_type": "error",
     "traceback": [
      "\u001b[1;31m---------------------------------------------------------------------------\u001b[0m",
      "\u001b[1;31mKeyboardInterrupt\u001b[0m                         Traceback (most recent call last)",
      "Cell \u001b[1;32mIn[13], line 9\u001b[0m\n\u001b[0;32m      1\u001b[0m epochs \u001b[38;5;241m=\u001b[39m \u001b[38;5;241m20\u001b[39m \u001b[38;5;66;03m# try 30-40 as a start\u001b[39;00m\n\u001b[0;32m      3\u001b[0m callbacks_list \u001b[38;5;241m=\u001b[39m [\n\u001b[0;32m      4\u001b[0m                   ModelCheckpoint(filepath\u001b[38;5;241m=\u001b[39mmodel_save_path, monitor\u001b[38;5;241m=\u001b[39m\u001b[38;5;124m'\u001b[39m\u001b[38;5;124mval_loss\u001b[39m\u001b[38;5;124m'\u001b[39m, verbose\u001b[38;5;241m=\u001b[39m\u001b[38;5;241m1\u001b[39m, save_best_only\u001b[38;5;241m=\u001b[39m\u001b[38;5;28;01mTrue\u001b[39;00m, mode\u001b[38;5;241m=\u001b[39m\u001b[38;5;124m'\u001b[39m\u001b[38;5;124mmin\u001b[39m\u001b[38;5;124m'\u001b[39m),\n\u001b[0;32m      5\u001b[0m                   ReduceLROnPlateau(monitor\u001b[38;5;241m=\u001b[39m\u001b[38;5;124m'\u001b[39m\u001b[38;5;124mval_loss\u001b[39m\u001b[38;5;124m'\u001b[39m, factor\u001b[38;5;241m=\u001b[39m\u001b[38;5;241m0.1\u001b[39m, patience\u001b[38;5;241m=\u001b[39m\u001b[38;5;241m3\u001b[39m, min_lr\u001b[38;5;241m=\u001b[39m\u001b[38;5;241m1e-8\u001b[39m, verbose\u001b[38;5;241m=\u001b[39m\u001b[38;5;241m1\u001b[39m),\n\u001b[0;32m      6\u001b[0m                   LearningRateScheduler(lr_scheduler)\n\u001b[0;32m      7\u001b[0m ]\n\u001b[1;32m----> 9\u001b[0m history \u001b[38;5;241m=\u001b[39m \u001b[43mmodel\u001b[49m\u001b[38;5;241;43m.\u001b[39;49m\u001b[43mfit\u001b[49m\u001b[43m(\u001b[49m\n\u001b[0;32m     10\u001b[0m \u001b[43m    \u001b[49m\u001b[43mtrain_loader\u001b[49m\u001b[43m,\u001b[49m\n\u001b[0;32m     11\u001b[0m \u001b[43m    \u001b[49m\u001b[43mepochs\u001b[49m\u001b[38;5;241;43m=\u001b[39;49m\u001b[43mepochs\u001b[49m\u001b[43m,\u001b[49m\n\u001b[0;32m     12\u001b[0m \u001b[43m    \u001b[49m\u001b[43mvalidation_data\u001b[49m\u001b[38;5;241;43m=\u001b[39;49m\u001b[43mval_loader\u001b[49m\u001b[43m,\u001b[49m\n\u001b[0;32m     13\u001b[0m \u001b[43m    \u001b[49m\u001b[43mshuffle\u001b[49m\u001b[38;5;241;43m=\u001b[39;49m\u001b[38;5;28;43;01mTrue\u001b[39;49;00m\u001b[43m,\u001b[49m\n\u001b[0;32m     14\u001b[0m \u001b[43m    \u001b[49m\u001b[43mcallbacks\u001b[49m\u001b[38;5;241;43m=\u001b[39;49m\u001b[43mcallbacks_list\u001b[49m\n\u001b[0;32m     15\u001b[0m \u001b[43m)\u001b[49m\n",
      "File \u001b[1;32mD:\\Projects\\Tensorflow210\\venv\\lib\\site-packages\\keras\\utils\\traceback_utils.py:65\u001b[0m, in \u001b[0;36mfilter_traceback.<locals>.error_handler\u001b[1;34m(*args, **kwargs)\u001b[0m\n\u001b[0;32m     63\u001b[0m filtered_tb \u001b[38;5;241m=\u001b[39m \u001b[38;5;28;01mNone\u001b[39;00m\n\u001b[0;32m     64\u001b[0m \u001b[38;5;28;01mtry\u001b[39;00m:\n\u001b[1;32m---> 65\u001b[0m     \u001b[38;5;28;01mreturn\u001b[39;00m fn(\u001b[38;5;241m*\u001b[39margs, \u001b[38;5;241m*\u001b[39m\u001b[38;5;241m*\u001b[39mkwargs)\n\u001b[0;32m     66\u001b[0m \u001b[38;5;28;01mexcept\u001b[39;00m \u001b[38;5;167;01mException\u001b[39;00m \u001b[38;5;28;01mas\u001b[39;00m e:\n\u001b[0;32m     67\u001b[0m     filtered_tb \u001b[38;5;241m=\u001b[39m _process_traceback_frames(e\u001b[38;5;241m.\u001b[39m__traceback__)\n",
      "File \u001b[1;32mD:\\Projects\\Tensorflow210\\venv\\lib\\site-packages\\keras\\engine\\training.py:1564\u001b[0m, in \u001b[0;36mModel.fit\u001b[1;34m(self, x, y, batch_size, epochs, verbose, callbacks, validation_split, validation_data, shuffle, class_weight, sample_weight, initial_epoch, steps_per_epoch, validation_steps, validation_batch_size, validation_freq, max_queue_size, workers, use_multiprocessing)\u001b[0m\n\u001b[0;32m   1556\u001b[0m \u001b[38;5;28;01mwith\u001b[39;00m tf\u001b[38;5;241m.\u001b[39mprofiler\u001b[38;5;241m.\u001b[39mexperimental\u001b[38;5;241m.\u001b[39mTrace(\n\u001b[0;32m   1557\u001b[0m     \u001b[38;5;124m\"\u001b[39m\u001b[38;5;124mtrain\u001b[39m\u001b[38;5;124m\"\u001b[39m,\n\u001b[0;32m   1558\u001b[0m     epoch_num\u001b[38;5;241m=\u001b[39mepoch,\n\u001b[1;32m   (...)\u001b[0m\n\u001b[0;32m   1561\u001b[0m     _r\u001b[38;5;241m=\u001b[39m\u001b[38;5;241m1\u001b[39m,\n\u001b[0;32m   1562\u001b[0m ):\n\u001b[0;32m   1563\u001b[0m     callbacks\u001b[38;5;241m.\u001b[39mon_train_batch_begin(step)\n\u001b[1;32m-> 1564\u001b[0m     tmp_logs \u001b[38;5;241m=\u001b[39m \u001b[38;5;28;43mself\u001b[39;49m\u001b[38;5;241;43m.\u001b[39;49m\u001b[43mtrain_function\u001b[49m\u001b[43m(\u001b[49m\u001b[43miterator\u001b[49m\u001b[43m)\u001b[49m\n\u001b[0;32m   1565\u001b[0m     \u001b[38;5;28;01mif\u001b[39;00m data_handler\u001b[38;5;241m.\u001b[39mshould_sync:\n\u001b[0;32m   1566\u001b[0m         context\u001b[38;5;241m.\u001b[39masync_wait()\n",
      "File \u001b[1;32mD:\\Projects\\Tensorflow210\\venv\\lib\\site-packages\\tensorflow\\python\\util\\traceback_utils.py:150\u001b[0m, in \u001b[0;36mfilter_traceback.<locals>.error_handler\u001b[1;34m(*args, **kwargs)\u001b[0m\n\u001b[0;32m    148\u001b[0m filtered_tb \u001b[38;5;241m=\u001b[39m \u001b[38;5;28;01mNone\u001b[39;00m\n\u001b[0;32m    149\u001b[0m \u001b[38;5;28;01mtry\u001b[39;00m:\n\u001b[1;32m--> 150\u001b[0m   \u001b[38;5;28;01mreturn\u001b[39;00m fn(\u001b[38;5;241m*\u001b[39margs, \u001b[38;5;241m*\u001b[39m\u001b[38;5;241m*\u001b[39mkwargs)\n\u001b[0;32m    151\u001b[0m \u001b[38;5;28;01mexcept\u001b[39;00m \u001b[38;5;167;01mException\u001b[39;00m \u001b[38;5;28;01mas\u001b[39;00m e:\n\u001b[0;32m    152\u001b[0m   filtered_tb \u001b[38;5;241m=\u001b[39m _process_traceback_frames(e\u001b[38;5;241m.\u001b[39m__traceback__)\n",
      "File \u001b[1;32mD:\\Projects\\Tensorflow210\\venv\\lib\\site-packages\\tensorflow\\python\\eager\\def_function.py:915\u001b[0m, in \u001b[0;36mFunction.__call__\u001b[1;34m(self, *args, **kwds)\u001b[0m\n\u001b[0;32m    912\u001b[0m compiler \u001b[38;5;241m=\u001b[39m \u001b[38;5;124m\"\u001b[39m\u001b[38;5;124mxla\u001b[39m\u001b[38;5;124m\"\u001b[39m \u001b[38;5;28;01mif\u001b[39;00m \u001b[38;5;28mself\u001b[39m\u001b[38;5;241m.\u001b[39m_jit_compile \u001b[38;5;28;01melse\u001b[39;00m \u001b[38;5;124m\"\u001b[39m\u001b[38;5;124mnonXla\u001b[39m\u001b[38;5;124m\"\u001b[39m\n\u001b[0;32m    914\u001b[0m \u001b[38;5;28;01mwith\u001b[39;00m OptionalXlaContext(\u001b[38;5;28mself\u001b[39m\u001b[38;5;241m.\u001b[39m_jit_compile):\n\u001b[1;32m--> 915\u001b[0m   result \u001b[38;5;241m=\u001b[39m \u001b[38;5;28mself\u001b[39m\u001b[38;5;241m.\u001b[39m_call(\u001b[38;5;241m*\u001b[39margs, \u001b[38;5;241m*\u001b[39m\u001b[38;5;241m*\u001b[39mkwds)\n\u001b[0;32m    917\u001b[0m new_tracing_count \u001b[38;5;241m=\u001b[39m \u001b[38;5;28mself\u001b[39m\u001b[38;5;241m.\u001b[39mexperimental_get_tracing_count()\n\u001b[0;32m    918\u001b[0m without_tracing \u001b[38;5;241m=\u001b[39m (tracing_count \u001b[38;5;241m==\u001b[39m new_tracing_count)\n",
      "File \u001b[1;32mD:\\Projects\\Tensorflow210\\venv\\lib\\site-packages\\tensorflow\\python\\eager\\def_function.py:947\u001b[0m, in \u001b[0;36mFunction._call\u001b[1;34m(self, *args, **kwds)\u001b[0m\n\u001b[0;32m    944\u001b[0m   \u001b[38;5;28mself\u001b[39m\u001b[38;5;241m.\u001b[39m_lock\u001b[38;5;241m.\u001b[39mrelease()\n\u001b[0;32m    945\u001b[0m   \u001b[38;5;66;03m# In this case we have created variables on the first call, so we run the\u001b[39;00m\n\u001b[0;32m    946\u001b[0m   \u001b[38;5;66;03m# defunned version which is guaranteed to never create variables.\u001b[39;00m\n\u001b[1;32m--> 947\u001b[0m   \u001b[38;5;28;01mreturn\u001b[39;00m \u001b[38;5;28mself\u001b[39m\u001b[38;5;241m.\u001b[39m_stateless_fn(\u001b[38;5;241m*\u001b[39margs, \u001b[38;5;241m*\u001b[39m\u001b[38;5;241m*\u001b[39mkwds)  \u001b[38;5;66;03m# pylint: disable=not-callable\u001b[39;00m\n\u001b[0;32m    948\u001b[0m \u001b[38;5;28;01melif\u001b[39;00m \u001b[38;5;28mself\u001b[39m\u001b[38;5;241m.\u001b[39m_stateful_fn \u001b[38;5;129;01mis\u001b[39;00m \u001b[38;5;129;01mnot\u001b[39;00m \u001b[38;5;28;01mNone\u001b[39;00m:\n\u001b[0;32m    949\u001b[0m   \u001b[38;5;66;03m# Release the lock early so that multiple threads can perform the call\u001b[39;00m\n\u001b[0;32m    950\u001b[0m   \u001b[38;5;66;03m# in parallel.\u001b[39;00m\n\u001b[0;32m    951\u001b[0m   \u001b[38;5;28mself\u001b[39m\u001b[38;5;241m.\u001b[39m_lock\u001b[38;5;241m.\u001b[39mrelease()\n",
      "File \u001b[1;32mD:\\Projects\\Tensorflow210\\venv\\lib\\site-packages\\tensorflow\\python\\eager\\function.py:2496\u001b[0m, in \u001b[0;36mFunction.__call__\u001b[1;34m(self, *args, **kwargs)\u001b[0m\n\u001b[0;32m   2493\u001b[0m \u001b[38;5;28;01mwith\u001b[39;00m \u001b[38;5;28mself\u001b[39m\u001b[38;5;241m.\u001b[39m_lock:\n\u001b[0;32m   2494\u001b[0m   (graph_function,\n\u001b[0;32m   2495\u001b[0m    filtered_flat_args) \u001b[38;5;241m=\u001b[39m \u001b[38;5;28mself\u001b[39m\u001b[38;5;241m.\u001b[39m_maybe_define_function(args, kwargs)\n\u001b[1;32m-> 2496\u001b[0m \u001b[38;5;28;01mreturn\u001b[39;00m \u001b[43mgraph_function\u001b[49m\u001b[38;5;241;43m.\u001b[39;49m\u001b[43m_call_flat\u001b[49m\u001b[43m(\u001b[49m\n\u001b[0;32m   2497\u001b[0m \u001b[43m    \u001b[49m\u001b[43mfiltered_flat_args\u001b[49m\u001b[43m,\u001b[49m\u001b[43m \u001b[49m\u001b[43mcaptured_inputs\u001b[49m\u001b[38;5;241;43m=\u001b[39;49m\u001b[43mgraph_function\u001b[49m\u001b[38;5;241;43m.\u001b[39;49m\u001b[43mcaptured_inputs\u001b[49m\u001b[43m)\u001b[49m\n",
      "File \u001b[1;32mD:\\Projects\\Tensorflow210\\venv\\lib\\site-packages\\tensorflow\\python\\eager\\function.py:1862\u001b[0m, in \u001b[0;36mConcreteFunction._call_flat\u001b[1;34m(self, args, captured_inputs, cancellation_manager)\u001b[0m\n\u001b[0;32m   1858\u001b[0m possible_gradient_type \u001b[38;5;241m=\u001b[39m gradients_util\u001b[38;5;241m.\u001b[39mPossibleTapeGradientTypes(args)\n\u001b[0;32m   1859\u001b[0m \u001b[38;5;28;01mif\u001b[39;00m (possible_gradient_type \u001b[38;5;241m==\u001b[39m gradients_util\u001b[38;5;241m.\u001b[39mPOSSIBLE_GRADIENT_TYPES_NONE\n\u001b[0;32m   1860\u001b[0m     \u001b[38;5;129;01mand\u001b[39;00m executing_eagerly):\n\u001b[0;32m   1861\u001b[0m   \u001b[38;5;66;03m# No tape is watching; skip to running the function.\u001b[39;00m\n\u001b[1;32m-> 1862\u001b[0m   \u001b[38;5;28;01mreturn\u001b[39;00m \u001b[38;5;28mself\u001b[39m\u001b[38;5;241m.\u001b[39m_build_call_outputs(\u001b[38;5;28;43mself\u001b[39;49m\u001b[38;5;241;43m.\u001b[39;49m\u001b[43m_inference_function\u001b[49m\u001b[38;5;241;43m.\u001b[39;49m\u001b[43mcall\u001b[49m\u001b[43m(\u001b[49m\n\u001b[0;32m   1863\u001b[0m \u001b[43m      \u001b[49m\u001b[43mctx\u001b[49m\u001b[43m,\u001b[49m\u001b[43m \u001b[49m\u001b[43margs\u001b[49m\u001b[43m,\u001b[49m\u001b[43m \u001b[49m\u001b[43mcancellation_manager\u001b[49m\u001b[38;5;241;43m=\u001b[39;49m\u001b[43mcancellation_manager\u001b[49m\u001b[43m)\u001b[49m)\n\u001b[0;32m   1864\u001b[0m forward_backward \u001b[38;5;241m=\u001b[39m \u001b[38;5;28mself\u001b[39m\u001b[38;5;241m.\u001b[39m_select_forward_and_backward_functions(\n\u001b[0;32m   1865\u001b[0m     args,\n\u001b[0;32m   1866\u001b[0m     possible_gradient_type,\n\u001b[0;32m   1867\u001b[0m     executing_eagerly)\n\u001b[0;32m   1868\u001b[0m forward_function, args_with_tangents \u001b[38;5;241m=\u001b[39m forward_backward\u001b[38;5;241m.\u001b[39mforward()\n",
      "File \u001b[1;32mD:\\Projects\\Tensorflow210\\venv\\lib\\site-packages\\tensorflow\\python\\eager\\function.py:499\u001b[0m, in \u001b[0;36m_EagerDefinedFunction.call\u001b[1;34m(self, ctx, args, cancellation_manager)\u001b[0m\n\u001b[0;32m    497\u001b[0m \u001b[38;5;28;01mwith\u001b[39;00m _InterpolateFunctionError(\u001b[38;5;28mself\u001b[39m):\n\u001b[0;32m    498\u001b[0m   \u001b[38;5;28;01mif\u001b[39;00m cancellation_manager \u001b[38;5;129;01mis\u001b[39;00m \u001b[38;5;28;01mNone\u001b[39;00m:\n\u001b[1;32m--> 499\u001b[0m     outputs \u001b[38;5;241m=\u001b[39m \u001b[43mexecute\u001b[49m\u001b[38;5;241;43m.\u001b[39;49m\u001b[43mexecute\u001b[49m\u001b[43m(\u001b[49m\n\u001b[0;32m    500\u001b[0m \u001b[43m        \u001b[49m\u001b[38;5;28;43mstr\u001b[39;49m\u001b[43m(\u001b[49m\u001b[38;5;28;43mself\u001b[39;49m\u001b[38;5;241;43m.\u001b[39;49m\u001b[43msignature\u001b[49m\u001b[38;5;241;43m.\u001b[39;49m\u001b[43mname\u001b[49m\u001b[43m)\u001b[49m\u001b[43m,\u001b[49m\n\u001b[0;32m    501\u001b[0m \u001b[43m        \u001b[49m\u001b[43mnum_outputs\u001b[49m\u001b[38;5;241;43m=\u001b[39;49m\u001b[38;5;28;43mself\u001b[39;49m\u001b[38;5;241;43m.\u001b[39;49m\u001b[43m_num_outputs\u001b[49m\u001b[43m,\u001b[49m\n\u001b[0;32m    502\u001b[0m \u001b[43m        \u001b[49m\u001b[43minputs\u001b[49m\u001b[38;5;241;43m=\u001b[39;49m\u001b[43margs\u001b[49m\u001b[43m,\u001b[49m\n\u001b[0;32m    503\u001b[0m \u001b[43m        \u001b[49m\u001b[43mattrs\u001b[49m\u001b[38;5;241;43m=\u001b[39;49m\u001b[43mattrs\u001b[49m\u001b[43m,\u001b[49m\n\u001b[0;32m    504\u001b[0m \u001b[43m        \u001b[49m\u001b[43mctx\u001b[49m\u001b[38;5;241;43m=\u001b[39;49m\u001b[43mctx\u001b[49m\u001b[43m)\u001b[49m\n\u001b[0;32m    505\u001b[0m   \u001b[38;5;28;01melse\u001b[39;00m:\n\u001b[0;32m    506\u001b[0m     outputs \u001b[38;5;241m=\u001b[39m execute\u001b[38;5;241m.\u001b[39mexecute_with_cancellation(\n\u001b[0;32m    507\u001b[0m         \u001b[38;5;28mstr\u001b[39m(\u001b[38;5;28mself\u001b[39m\u001b[38;5;241m.\u001b[39msignature\u001b[38;5;241m.\u001b[39mname),\n\u001b[0;32m    508\u001b[0m         num_outputs\u001b[38;5;241m=\u001b[39m\u001b[38;5;28mself\u001b[39m\u001b[38;5;241m.\u001b[39m_num_outputs,\n\u001b[1;32m   (...)\u001b[0m\n\u001b[0;32m    511\u001b[0m         ctx\u001b[38;5;241m=\u001b[39mctx,\n\u001b[0;32m    512\u001b[0m         cancellation_manager\u001b[38;5;241m=\u001b[39mcancellation_manager)\n",
      "File \u001b[1;32mD:\\Projects\\Tensorflow210\\venv\\lib\\site-packages\\tensorflow\\python\\eager\\execute.py:54\u001b[0m, in \u001b[0;36mquick_execute\u001b[1;34m(op_name, num_outputs, inputs, attrs, ctx, name)\u001b[0m\n\u001b[0;32m     52\u001b[0m \u001b[38;5;28;01mtry\u001b[39;00m:\n\u001b[0;32m     53\u001b[0m   ctx\u001b[38;5;241m.\u001b[39mensure_initialized()\n\u001b[1;32m---> 54\u001b[0m   tensors \u001b[38;5;241m=\u001b[39m \u001b[43mpywrap_tfe\u001b[49m\u001b[38;5;241;43m.\u001b[39;49m\u001b[43mTFE_Py_Execute\u001b[49m\u001b[43m(\u001b[49m\u001b[43mctx\u001b[49m\u001b[38;5;241;43m.\u001b[39;49m\u001b[43m_handle\u001b[49m\u001b[43m,\u001b[49m\u001b[43m \u001b[49m\u001b[43mdevice_name\u001b[49m\u001b[43m,\u001b[49m\u001b[43m \u001b[49m\u001b[43mop_name\u001b[49m\u001b[43m,\u001b[49m\n\u001b[0;32m     55\u001b[0m \u001b[43m                                      \u001b[49m\u001b[43minputs\u001b[49m\u001b[43m,\u001b[49m\u001b[43m \u001b[49m\u001b[43mattrs\u001b[49m\u001b[43m,\u001b[49m\u001b[43m \u001b[49m\u001b[43mnum_outputs\u001b[49m\u001b[43m)\u001b[49m\n\u001b[0;32m     56\u001b[0m \u001b[38;5;28;01mexcept\u001b[39;00m core\u001b[38;5;241m.\u001b[39m_NotOkStatusException \u001b[38;5;28;01mas\u001b[39;00m e:\n\u001b[0;32m     57\u001b[0m   \u001b[38;5;28;01mif\u001b[39;00m name \u001b[38;5;129;01mis\u001b[39;00m \u001b[38;5;129;01mnot\u001b[39;00m \u001b[38;5;28;01mNone\u001b[39;00m:\n",
      "\u001b[1;31mKeyboardInterrupt\u001b[0m: "
     ]
    }
   ],
   "source": [
    "epochs = 20 # try 30-40 as a start\n",
    "\n",
    "callbacks_list = [\n",
    "                  ModelCheckpoint(filepath=model_save_path, monitor='val_loss', verbose=1, save_best_only=True, mode='min'),\n",
    "                  ReduceLROnPlateau(monitor='val_loss', factor=0.1, patience=3, min_lr=1e-8, verbose=1),\n",
    "                  LearningRateScheduler(lr_scheduler)\n",
    "]\n",
    "\n",
    "history = model.fit(\n",
    "    train_loader,\n",
    "    epochs=epochs,\n",
    "    validation_data=val_loader,\n",
    "    shuffle=True,\n",
    "    callbacks=callbacks_list\n",
    ")"
   ]
  },
  {
   "cell_type": "markdown",
   "metadata": {
    "collapsed": false,
    "id": "1JSyhMmP1eci"
   },
   "source": [
    "#### Save Training history and data specs"
   ]
  },
  {
   "cell_type": "code",
   "execution_count": null,
   "metadata": {
    "id": "bz6I8J7p1eci"
   },
   "outputs": [],
   "source": [
    "# save train history\n",
    "history_outfile = os.path.join(dataset.output_dir, \"train_history.txt\")\n",
    "\n",
    "with open(history_outfile, \"w\") as f:\n",
    "    f.write(str(history.history))"
   ]
  },
  {
   "cell_type": "code",
   "execution_count": null,
   "metadata": {
    "ExecuteTime": {
     "end_time": "2023-07-21T12:13:38.233340900Z",
     "start_time": "2023-07-21T12:13:38.217342300Z"
    },
    "id": "ePmP-opZ1ecj"
   },
   "outputs": [],
   "source": [
    "network_config = {\n",
    "    \"input_width\" : train_loader.img_width,\n",
    "    \"input_height\" : train_loader.img_height,\n",
    "    \"charset\" : dataset.get_charset(),\n",
    "    \"weights_file\" : model_save_path\n",
    "}\n",
    "\n",
    "out_file = os.path.join(dataset.output_dir, \"network_config.json\")\n",
    "json_out = json.dumps(network_config, ensure_ascii=False, indent=2)\n",
    "\n",
    "with open(out_file, \"w\") as f:\n",
    "    f.write(json_out)"
   ]
  },
  {
   "cell_type": "markdown",
   "metadata": {
    "collapsed": false,
    "id": "IFais8pm1ecj"
   },
   "source": [
    "#### Alternatively: Run Training using OCRTrainer class"
   ]
  },
  {
   "cell_type": "code",
   "execution_count": null,
   "metadata": {
    "ExecuteTime": {
     "end_time": "2023-07-21T12:47:56.382481300Z",
     "start_time": "2023-07-21T12:47:40.283741800Z"
    },
    "id": "BNvDwxU91ecj",
    "outputId": "f09bade7-75ec-4e84-9af0-bce93172f3ae"
   },
   "outputs": [
    {
     "name": "stderr",
     "output_type": "stream",
     "text": [
      "INFO:root:Total Images: 13527, Total Labels: 13527\n",
      "reading labels: 100%|██████████| 13527/13527 [00:06<00:00, 1937.02it/s]\n",
      "INFO:root:Train Images: 10752\n",
      "INFO:root:Validation Images: 1344\n",
      "INFO:root:Test Images: 1344\n",
      "INFO:root:Saved model config to: Data/KhyentseWangpo/Output/2023_7_27_10_21/model_config.json\n"
     ]
    }
   ],
   "source": [
    "data_root = \"Data\"\n",
    "dataset = \"KhyentseWangpo\"\n",
    "charset = get_charset(DEFAULT_CHARSET)\n",
    "\n",
    "dataset_path = os.path.join(data_root, dataset)\n",
    "\n",
    "ocr_dataset = OCRDataset(dataset_path, batch_size=32, charset=charset)\n",
    "ocr_trainer = OCRTrainer(ocr_dataset, model_name=\"khyentse_wangpo\")"
   ]
  },
  {
   "cell_type": "code",
   "execution_count": null,
   "metadata": {
    "ExecuteTime": {
     "end_time": "2023-07-21T13:15:14.537841500Z",
     "start_time": "2023-07-21T13:09:01.373219500Z"
    },
    "id": "rYkvvqlO1eck",
    "outputId": "f9b10e9a-44bb-4eb4-caaa-6d8d44bd3004"
   },
   "outputs": [
    {
     "name": "stdout",
     "output_type": "stream",
     "text": [
      "336/336 [==============================] - ETA: 0s - loss: 106.0690\n",
      "Epoch 1: val_loss improved from inf to 288.20963, saving model to Data/KhyentseWangpo/Output/2023_7_27_10_21/khyentse_wangpo_easter2.hdf5\n",
      "336/336 [==============================] - 1354s 4s/step - loss: 106.0690 - val_loss: 288.2096 - lr: 0.0010\n"
     ]
    },
    {
     "name": "stderr",
     "output_type": "stream",
     "text": [
      "INFO:root:Finished training of 1 epochs!\n"
     ]
    }
   ],
   "source": [
    "ocr_trainer.train(epochs=1)"
   ]
  }
 ],
 "metadata": {
  "accelerator": "GPU",
  "colab": {
   "machine_shape": "hm",
   "provenance": []
  },
  "kernelspec": {
   "display_name": "Python 3 (ipykernel)",
   "language": "python",
   "name": "python3"
  },
  "language_info": {
   "codemirror_mode": {
    "name": "ipython",
    "version": 3
   },
   "file_extension": ".py",
   "mimetype": "text/x-python",
   "name": "python",
   "nbconvert_exporter": "python",
   "pygments_lexer": "ipython3",
   "version": "3.9.6"
  },
  "vscode": {
   "interpreter": {
    "hash": "030a4d51343964d3f8cb8627f0a1a43923d9366c81d938d62fa6397e067ec664"
   }
  }
 },
 "nbformat": 4,
 "nbformat_minor": 0
}
